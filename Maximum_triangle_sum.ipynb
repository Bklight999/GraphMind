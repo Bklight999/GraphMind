{
 "cells": [
  {
   "cell_type": "code",
   "execution_count": 1,
   "metadata": {},
   "outputs": [
    {
     "name": "stdout",
     "output_type": "stream",
     "text": [
      "[[0, 9, 16]]\n"
     ]
    }
   ],
   "source": [
    "import json\n",
    "\n",
    "with open('./data_0104/Maximum_triangle_sum.json','r') as f:\n",
    "    datas = json.load(f)\n",
    "\n",
    "print(datas[0]['result'])"
   ]
  },
  {
   "cell_type": "code",
   "execution_count": 2,
   "metadata": {},
   "outputs": [
    {
     "name": "stdout",
     "output_type": "stream",
     "text": [
      "[[5, 22, 23]]\n",
      "[(0, 16), (1, 13), (2, 5), (2, 13), (2, 21), (3, 5), (3, 9), (4, 6), (4, 7), (4, 11), (4, 23), (5, 6), (5, 16), (5, 19), (5, 22), (5, 23), (6, 11), (7, 19), (8, 17), (9, 11), (9, 13), (9, 15), (9, 16), (10, 15), (11, 13), (12, 13), (12, 18), (12, 20), (13, 22), (14, 20), (17, 19), (18, 21), (19, 21), (19, 23), (22, 23)]\n"
     ]
    }
   ],
   "source": [
    "print(datas[1]['result'])\n",
    "edges = datas[1]['edges']\n",
    "edges = [tuple(edge) for edge in edges]\n",
    "print(edges)"
   ]
  },
  {
   "cell_type": "code",
   "execution_count": 3,
   "metadata": {},
   "outputs": [],
   "source": [
    "final_datas = []\n",
    "for data in datas:\n",
    "    edges = data['edges']\n",
    "    nodes = data['node_weight']\n",
    "    edges = [tuple(edge) for edge in edges]\n",
    "    node_num = data['node_num']\n",
    "    max_weight = data['weight']\n",
    "    nodes_str = ', '.join([f\"[{i}, {j}]\" for i, j in nodes])\n",
    "    edges_str = ', '.join([f\"({i}, {j})\" for i, j in edges])\n",
    "    question = f\"\"\"Find the maximum sum of the weights of three interconnected nodes (e.g. nodes a,b,c form a triangle if there are edges between a and b, b and c, a and c). \n",
    "In an undirected graph, [i, k] means that node i has the weight k. (i,j) means that node i and node j are connected with an undirected edge.\n",
    "Given a graph, you need to output the maximum sum of the weights of three interconnected nodes. \n",
    "Q: The nodes are numbered from 0 to {node_num-1}, weights of nodes are: {nodes_str}, and the edges are: {edges_str}. What is the maximum sum of the weights of three nodes?\"\"\"\n",
    "    answers = data['result']\n",
    "    \n",
    "    output = \"\"\"\"\"\"\n",
    "    if data['result'] == [-1]:\n",
    "        hint = f\"Hint: There is no triangle in this graph.\\n\"\n",
    "        requirement = 'Your output first contains your reasoning process and then pacakge your answer in the square, e.g. [NaN].\\n'\n",
    "        final_datas.append({\n",
    "            'input': question,\n",
    "            'hint': hint,\n",
    "            'requirement': requirement\n",
    "        })\n",
    "    else:\n",
    "        for answer in answers:\n",
    "            hint = f\"The optimal solution with weight {max_weight} is:\\n\"\n",
    "            path = ', '.join([str(node) for node in answer])\n",
    "            hint += f\"\\n{(path)}\\n\"\n",
    "\n",
    "            requirement = f'Your output first contains your reasoning process and then pacakge your answer in the square, e.g. [{max_weight}].\\n'\n",
    "            final_datas.append({\n",
    "                'input': question,\n",
    "                'hint': hint,\n",
    "                'requirement': requirement\n",
    "            })\n"
   ]
  },
  {
   "cell_type": "code",
   "execution_count": 4,
   "metadata": {},
   "outputs": [
    {
     "name": "stdout",
     "output_type": "stream",
     "text": [
      "Find the maximum sum of the weights of three interconnected nodes (e.g. nodes a,b,c form a triangle if there are edges between a and b, b and c, a and c). \n",
      "In an undirected graph, [i, k] means that node i has the weight k. (i,j) means that node i and node j are connected with an undirected edge.\n",
      "Given a graph, you need to output the maximum sum of the weights of three interconnected nodes. \n",
      "Q: The nodes are numbered from 0 to 11, weights of nodes are: [0, 5], [1, 7], [2, 2], [3, 2], [4, 2], [5, 6], [6, 3], [7, 6], [8, 7], [9, 9], [10, 2], [11, 5], [12, 3], [13, 1], [14, 9], [15, 8], [16, 10], [17, 2], [18, 8], [19, 7], [20, 4], [21, 2], [22, 2], and the edges are: (0, 4), (0, 7), (0, 9), (0, 13), (0, 16), (1, 4), (1, 6), (1, 12), (1, 13), (1, 18), (1, 20), (1, 21), (2, 6), (2, 8), (2, 9), (2, 10), (2, 12), (2, 20), (2, 21), (3, 9), (3, 15), (3, 17), (3, 19), (3, 22), (4, 6), (4, 9), (4, 10), (4, 12), (4, 14), (5, 7), (5, 8), (5, 9), (5, 11), (5, 14), (6, 7), (6, 14), (6, 17), (6, 19), (6, 22), (7, 8), (7, 20), (7, 22), (8, 18), (8, 19), (8, 21), (9, 16), (10, 14), (10, 18), (10, 19), (11, 19), (12, 13), (12, 20), (13, 19), (14, 16), (14, 17), (14, 18), (15, 20), (17, 19), (18, 20), (21, 22). What is the maximum sum of the weights of three nodes?\n",
      "The optimal solution with weight 24 is:\n",
      "\n",
      "0, 9, 16\n",
      "\n",
      "23087\n"
     ]
    }
   ],
   "source": [
    "print(final_datas[0]['input'])\n",
    "print(final_datas[0]['hint'])\n",
    "print(len(final_datas))"
   ]
  },
  {
   "cell_type": "code",
   "execution_count": 5,
   "metadata": {},
   "outputs": [],
   "source": [
    "with open('/mnt/sdc/qifan/Graphwiz_Modify/Prompt_api_data_0104/Maximum_triangle_sum.json','w') as f:\n",
    "    json.dump(final_datas, f, indent=4)"
   ]
  }
 ],
 "metadata": {
  "kernelspec": {
   "display_name": "base",
   "language": "python",
   "name": "python3"
  },
  "language_info": {
   "codemirror_mode": {
    "name": "ipython",
    "version": 3
   },
   "file_extension": ".py",
   "mimetype": "text/x-python",
   "name": "python",
   "nbconvert_exporter": "python",
   "pygments_lexer": "ipython3",
   "version": "3.11.7"
  }
 },
 "nbformat": 4,
 "nbformat_minor": 2
}
