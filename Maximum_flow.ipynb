{
 "cells": [
  {
   "cell_type": "code",
   "execution_count": 1,
   "metadata": {},
   "outputs": [
    {
     "name": "stdout",
     "output_type": "stream",
     "text": [
      "{'0': {'3': 4, '6': 0}, '1': {'0': 4, '3': 1}, '2': {'1': 0, '7': 0}, '3': {'1': 0}, '4': {'0': 0, '7': 0}, '5': {}, '6': {'5': 0, '7': 0}, '7': {'0': 0, '5': 0, '8': 0}, '8': {'1': 5, '3': 1}}\n"
     ]
    }
   ],
   "source": [
    "import json\n",
    "\n",
    "with open('./data/Maximum_flow.json','r') as f:\n",
    "    datas = json.load(f)\n",
    "\n",
    "print(datas[0]['result'])"
   ]
  },
  {
   "cell_type": "code",
   "execution_count": 2,
   "metadata": {},
   "outputs": [
    {
     "name": "stdout",
     "output_type": "stream",
     "text": [
      "{'0': {'3': 4, '6': 0}, '1': {'0': 4, '3': 1}, '2': {'1': 0, '7': 0}, '3': {'1': 0}, '4': {'0': 0, '7': 0}, '5': {}, '6': {'5': 0, '7': 0}, '7': {'0': 0, '5': 0, '8': 0}, '8': {'1': 5, '3': 1}}\n",
      "[(0, 3, 8), (0, 6, 3), (1, 0, 9), (1, 3, 1), (2, 1, 10), (2, 7, 1), (3, 1, 1), (4, 0, 3), (4, 7, 1), (6, 5, 6), (6, 7, 7), (7, 0, 10), (7, 5, 5), (7, 8, 2), (8, 1, 5), (8, 3, 1)]\n"
     ]
    }
   ],
   "source": [
    "print(datas[0]['result'])\n",
    "edges = datas[0]['edges']\n",
    "edges = [tuple(edge) for edge in edges]\n",
    "print(edges)"
   ]
  },
  {
   "cell_type": "code",
   "execution_count": 3,
   "metadata": {},
   "outputs": [],
   "source": [
    "final_datas = []\n",
    "for data in datas:\n",
    "    edges = data['edges']\n",
    "    edges = [tuple(edge) for edge in edges]\n",
    "    source = data['source']\n",
    "    target = data['target']\n",
    "    node_num = data['node_num']\n",
    "    edges_str = ', '.join([f\"({i}, {j}, {k})\" for i, j, k in edges])\n",
    "    question = f\"\"\"Find the maximum flow between two nodes in a directed graph. \n",
    "In a directed graph, (i->j,k) means that node i and node j are connected with an directed edge from node i to node j with weight k. \n",
    "Given a graph and a pair of nodes, you need to output the maximum flow between the two nodes.\n",
    "Q: The nodes are numbered from 0 to {node_num-1}, and the edges are: {edges_str}. What is the maximum flow from node {source} to node {target}?\"\"\"\n",
    "    answers = data['result']\n",
    "    \n",
    "    output = \"\"\"\"\"\"\n",
    "    if data['result'] == [-1]:\n",
    "        hint = f\"Hint: There is no path between node {source} and node {target}.\\n\"\n",
    "        requirement = 'Your output first contains your reasoning process and then pacakge your answer in the square, e.g. [No].\\n'\n",
    "        final_datas.append({\n",
    "            'input': question,\n",
    "            'hint': hint,\n",
    "            'requirement': requirement\n",
    "        })\n",
    "    else:\n",
    "        for answer in answers:\n",
    "            hint = f\"Hint: A path between node {source} and node {target} is as follows:\"\n",
    "            path = ' -> '.join([str(node) for node in answer])\n",
    "            hint += f\"\\n{path}\\n\"\n",
    "\n",
    "            requirement = 'Your output first contains your reasoning process and then pacakge your answer in the square, e.g. [Yes].\\n'\n",
    "            final_datas.append({\n",
    "                'input': question,\n",
    "                'hint': hint,\n",
    "                'requirement': requirement\n",
    "            })\n"
   ]
  },
  {
   "cell_type": "code",
   "execution_count": 4,
   "metadata": {},
   "outputs": [
    {
     "name": "stdout",
     "output_type": "stream",
     "text": [
      "Find the maximum flow between two nodes in a directed graph. \n",
      "In a directed graph, (i->j,k) means that node i and node j are connected with an directed edge from node i to node j with weight k. \n",
      "Given a graph and a pair of nodes, you need to output the maximum flow between the two nodes.\n",
      "Q: The nodes are numbered from 0 to 9, and the edges are: (0, 3, 8), (0, 6, 3), (1, 0, 9), (1, 3, 1), (2, 1, 10), (2, 7, 1), (3, 1, 1), (4, 0, 3), (4, 7, 1), (6, 5, 6), (6, 7, 7), (7, 0, 10), (7, 5, 5), (7, 8, 2), (8, 1, 5), (8, 3, 1). What is the maximum flow from node 8 to node 3?\n",
      "16849\n"
     ]
    }
   ],
   "source": [
    "print(final_datas[0]['input'])\n",
    "print(len(final_datas))"
   ]
  }
 ],
 "metadata": {
  "kernelspec": {
   "display_name": "base",
   "language": "python",
   "name": "python3"
  },
  "language_info": {
   "codemirror_mode": {
    "name": "ipython",
    "version": 3
   },
   "file_extension": ".py",
   "mimetype": "text/x-python",
   "name": "python",
   "nbconvert_exporter": "python",
   "pygments_lexer": "ipython3",
   "version": "3.11.7"
  }
 },
 "nbformat": 4,
 "nbformat_minor": 2
}
