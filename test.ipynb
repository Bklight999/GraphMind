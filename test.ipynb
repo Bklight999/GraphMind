{
 "cells": [
  {
   "cell_type": "code",
   "execution_count": 1,
   "metadata": {},
   "outputs": [
    {
     "name": "stdout",
     "output_type": "stream",
     "text": [
      "Current x: 1\n",
      "Final x: 0\n"
     ]
    }
   ],
   "source": [
    "def recursive_increment(x, limit):\n",
    "    x += 1  # 修改 x，但实际上是创建了一个新的整数对象\n",
    "    print(f\"Current x: {x}\")\n",
    "\n",
    "\n",
    "x = 0\n",
    "recursive_increment(x, 5)\n",
    "print(f\"Final x: {x}\")  # x 的值没有被修改"
   ]
  },
  {
   "cell_type": "code",
   "execution_count": 1,
   "metadata": {},
   "outputs": [
    {
     "name": "stdout",
     "output_type": "stream",
     "text": [
      "图是二分图，两个集合为: ({1, 4}, {2, 3})\n",
      "图不是二分图，冲突的两个节点是: (2, 3)\n"
     ]
    }
   ],
   "source": [
    "from collections import defaultdict, deque\n",
    "\n",
    "def is_bipartite(graph):\n",
    "    \"\"\"\n",
    "    判断一个无向图是否是二分图。\n",
    "    \n",
    "    参数:\n",
    "        graph: dict，表示无向图，key是节点，value是与key相邻的节点列表。\n",
    "    \n",
    "    返回:\n",
    "        如果是二分图，返回(True, (set1, set2))，即两个顶点集合；\n",
    "        如果不是二分图，返回(False, (node1, node2))，即冲突的两个节点。\n",
    "    \"\"\"\n",
    "    color = {}  # 记录每个节点的颜色，0 或 1\n",
    "    set1, set2 = set(), set()  # 用于存储二分图的两个集合\n",
    "\n",
    "    for node in graph:  # 遍历图中的每个节点，处理非连通图的情况\n",
    "        if node not in color:\n",
    "            queue = deque([node])  # BFS 队列\n",
    "            color[node] = 0  # 给第一个节点着色为 0\n",
    "            \n",
    "            while queue:\n",
    "                current = queue.popleft()\n",
    "                current_color = color[current]\n",
    "                \n",
    "                # 根据颜色分配到集合\n",
    "                if current_color == 0:\n",
    "                    set1.add(current)\n",
    "                else:\n",
    "                    set2.add(current)\n",
    "                \n",
    "                # 遍历当前节点的邻居\n",
    "                for neighbor in graph[current]:\n",
    "                    if neighbor not in color:  # 如果邻居没有被着色\n",
    "                        color[neighbor] = 1 - current_color  # 着相反的颜色\n",
    "                        queue.append(neighbor)\n",
    "                    elif color[neighbor] == current_color:  # 如果邻居颜色与当前节点相同\n",
    "                        # 不是二分图，返回冲突的两个节点\n",
    "                        return False, (current, neighbor)\n",
    "    \n",
    "    # 如果遍历完成，图是二分图\n",
    "    return True, (set1, set2)\n",
    "\n",
    "\n",
    "# 测试用例\n",
    "if __name__ == \"__main__\":\n",
    "    # 示例 1：二分图\n",
    "    graph1 = {\n",
    "        1: [2, 3],\n",
    "        2: [1, 4],\n",
    "        3: [1, 4],\n",
    "        4: [2, 3]\n",
    "    }\n",
    "\n",
    "    # 示例 2：不是二分图\n",
    "    graph2 = {\n",
    "        1: [2, 3],\n",
    "        2: [1, 3],\n",
    "        3: [1, 2]\n",
    "    }\n",
    "\n",
    "    # 测试二分图\n",
    "    result1 = is_bipartite(graph1)\n",
    "    if result1[0]:\n",
    "        print(\"图是二分图，两个集合为:\", result1[1])\n",
    "    else:\n",
    "        print(\"图不是二分图，冲突的两个节点是:\", result1[1])\n",
    "\n",
    "    # 测试非二分图\n",
    "    result2 = is_bipartite(graph2)\n",
    "    if result2[0]:\n",
    "        print(\"图是二分图，两个集合为:\", result2[1])\n",
    "    else:\n",
    "        print(\"图不是二分图，冲突的两个节点是:\", result2[1])"
   ]
  },
  {
   "cell_type": "code",
   "execution_count": 21,
   "metadata": {},
   "outputs": [
    {
     "name": "stdout",
     "output_type": "stream",
     "text": [
      "The graph is not bipartite, with conflicting pairs: {(4, 11), (4, 23), (4, 16)}\n",
      "The graph is not bipartite, with conflicting pairs: {(26, 29), (35, 38), (5, 8)}\n"
     ]
    }
   ],
   "source": [
    "import networkx as nx\n",
    "from collections import deque\n",
    "\n",
    "def is_bipartite(graph):\n",
    "\n",
    "    color = {}  # Dictionary to store the color of each node (0 or 1)\n",
    "    set1, set2 = set(), set()  # To store the two sets of the bipartite graph\n",
    "    conflict_pairs = set()  # To store conflicting node pairs\n",
    "    flag = True  # To indicate if the graph is bipartite\n",
    "\n",
    "    for node in graph.nodes():  # Iterate through all nodes, handling disconnected graphs\n",
    "        if node not in color:\n",
    "            queue = deque([node])  # BFS queue\n",
    "            color[node] = 0  # Start by coloring the first node with 0\n",
    "\n",
    "            while queue:\n",
    "                current = queue.popleft()\n",
    "                current_color = color[current]\n",
    "\n",
    "                # Add the current node to the appropriate set based on its color\n",
    "                if current_color == 0:\n",
    "                    set1.add(current)\n",
    "                else:\n",
    "                    set2.add(current)\n",
    "\n",
    "                # Iterate through the neighbors of the current node\n",
    "                for neighbor in graph.neighbors(current):\n",
    "                    if neighbor not in color:  # If the neighbor hasn't been colored yet\n",
    "                        color[neighbor] = 1 - current_color  # Assign the opposite color\n",
    "                        queue.append(neighbor)\n",
    "                    elif color[neighbor] == current_color:  # If the neighbor has the same color\n",
    "                        # Record the conflicting nodes\n",
    "                        if current < neighbor:\n",
    "                            conflict_pairs.add((current, neighbor))\n",
    "                        else:\n",
    "                            conflict_pairs.add((neighbor, current))\n",
    "                        flag = False  # The graph is not bipartite\n",
    "                        if len(conflict_pairs) >= 3:  # Limit to recording 3 conflict pairs\n",
    "                            return False, conflict_pairs\n",
    "\n",
    "    # Return the result\n",
    "    if flag:\n",
    "        return True, (set1, set2)  # Return the two sets if the graph is bipartite\n",
    "    else:\n",
    "        return False, conflict_pairs  # Return the conflict pairs if not bipartite\n",
    "    \n",
    "if __name__ == \"__main__\":\n",
    "    # 生成一个30个节点的无向图\n",
    "    graph1 = nx.random_geometric_graph(30, 0.2)\n",
    "\n",
    "    # Example 2: Non-bipartite graph\n",
    "    graph2 = nx.random_geometric_graph(40, 0.2)\n",
    "\n",
    "    # Test the bipartite function\n",
    "    result1 = is_bipartite(graph1)\n",
    "    if result1[0]:\n",
    "        print(\"The graph is bipartite, with two sets:\", result1[1])\n",
    "    else:\n",
    "        print(\"The graph is not bipartite, with conflicting pairs:\", result1[1])\n",
    "\n",
    "    result2 = is_bipartite(graph2)\n",
    "    if result2[0]:\n",
    "        print(\"The graph is bipartite, with two sets:\", result2[1])\n",
    "    else:\n",
    "        print(\"The graph is not bipartite, with conflicting pairs:\", result2[1])"
   ]
  },
  {
   "cell_type": "code",
   "execution_count": 1,
   "metadata": {},
   "outputs": [
    {
     "name": "stdout",
     "output_type": "stream",
     "text": [
      "20000\n"
     ]
    }
   ],
   "source": []
  },
  {
   "cell_type": "code",
   "execution_count": null,
   "metadata": {},
   "outputs": [],
   "source": []
  }
 ],
 "metadata": {
  "kernelspec": {
   "display_name": "base",
   "language": "python",
   "name": "python3"
  },
  "language_info": {
   "codemirror_mode": {
    "name": "ipython",
    "version": 3
   },
   "file_extension": ".py",
   "mimetype": "text/x-python",
   "name": "python",
   "nbconvert_exporter": "python",
   "pygments_lexer": "ipython3",
   "version": "3.11.7"
  }
 },
 "nbformat": 4,
 "nbformat_minor": 2
}
