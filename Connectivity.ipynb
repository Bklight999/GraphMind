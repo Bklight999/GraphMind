{
 "cells": [
  {
   "cell_type": "code",
   "execution_count": 1,
   "metadata": {},
   "outputs": [
    {
     "name": "stdout",
     "output_type": "stream",
     "text": [
      "[[3, 1, 2, 0, 9, 6, 11, 5, 12, 7, 4, 8, 13, 14, 17, 18, 10, 15], [3, 1, 2, 0, 9, 6, 11, 5, 12, 7, 4, 8, 13, 14, 17, 18, 10, 16, 19, 15], [3, 1, 2, 0, 9, 6, 11, 5, 12, 7, 4, 8, 13, 14, 17, 18, 10, 16, 19, 22, 15]]\n"
     ]
    }
   ],
   "source": [
    "import json\n",
    "\n",
    "with open('./data_0104/Connectivity.json','r') as f:\n",
    "    datas = json.load(f)\n",
    "\n",
    "print(datas[0]['result'])"
   ]
  },
  {
   "cell_type": "code",
   "execution_count": 2,
   "metadata": {},
   "outputs": [
    {
     "name": "stdout",
     "output_type": "stream",
     "text": [
      "[[3, 1, 2, 0, 9, 6, 11, 5, 12, 7, 4, 8, 13, 14, 17, 18, 10, 15], [3, 1, 2, 0, 9, 6, 11, 5, 12, 7, 4, 8, 13, 14, 17, 18, 10, 16, 19, 15], [3, 1, 2, 0, 9, 6, 11, 5, 12, 7, 4, 8, 13, 14, 17, 18, 10, 16, 19, 22, 15]]\n",
      "[(0, 2), (0, 9), (0, 11), (0, 13), (0, 15), (0, 16), (0, 17), (0, 19), (0, 20), (1, 2), (1, 3), (1, 5), (1, 6), (1, 10), (1, 11), (1, 12), (1, 15), (1, 16), (1, 21), (1, 22), (2, 12), (2, 14), (2, 16), (2, 18), (2, 19), (2, 22), (3, 7), (3, 8), (3, 10), (3, 12), (3, 14), (3, 18), (3, 21), (4, 7), (4, 8), (4, 13), (4, 16), (5, 11), (5, 12), (5, 13), (5, 19), (6, 9), (6, 11), (6, 17), (6, 21), (7, 9), (7, 12), (7, 13), (7, 14), (7, 16), (7, 17), (7, 19), (8, 9), (8, 11), (8, 12), (8, 13), (8, 14), (8, 16), (8, 19), (8, 22), (9, 20), (9, 21), (10, 15), (10, 16), (10, 18), (10, 20), (10, 21), (11, 14), (11, 15), (11, 16), (11, 18), (11, 19), (11, 20), (12, 13), (12, 16), (12, 17), (12, 18), (12, 21), (12, 22), (13, 14), (13, 16), (13, 21), (14, 17), (14, 20), (15, 19), (15, 21), (15, 22), (16, 19), (16, 20), (17, 18), (17, 20), (18, 19), (18, 21), (19, 20), (19, 22)]\n"
     ]
    }
   ],
   "source": [
    "print(datas[0]['result'])\n",
    "edges = datas[0]['edges']\n",
    "edges = [tuple(edge) for edge in edges]\n",
    "print(edges)"
   ]
  },
  {
   "cell_type": "code",
   "execution_count": 8,
   "metadata": {},
   "outputs": [],
   "source": [
    "final_datas = []\n",
    "for data in datas:\n",
    "    edges = data['edges']\n",
    "    edges = [tuple(edge) for edge in edges]\n",
    "    source = data['source']\n",
    "    target = data['target']\n",
    "    node_num = data['node_num']\n",
    "    edges_str = ', '.join([f\"({i}, {j})\" for i, j in edges])\n",
    "    question = f\"\"\"Determine whether two nodes are connected in an undirected graph. \n",
    "In an undirected graph, (i,j) means that node i and node j are connected with an undirected edge. \n",
    "Q: The nodes are numbered from 0 to {node_num-1}, and the edges are: {edges_str}. Is there a path between node {source} and node {target}?\\n\"\"\"\n",
    "    answers = data['result']\n",
    "    \n",
    "    output = \"\"\"\"\"\"\n",
    "    if data['result'] == [-1]:\n",
    "        hint = f\"Hint: There is no path between node {source} and node {target}.\\n\"\n",
    "        requirement = 'Your output first contains your reasoning process and then pacakge your answer in the square, e.g. [No].\\n'\n",
    "        final_datas.append({\n",
    "            'input': question,\n",
    "            'hint': hint,\n",
    "            'requirement': requirement\n",
    "        })\n",
    "    else:\n",
    "        for answer in answers:\n",
    "            hint = f\"Hint: A path between node {source} and node {target} is as follows:\"\n",
    "            path = ' -> '.join([str(node) for node in answer])\n",
    "            hint += f\"\\n{path}\\n\"\n",
    "\n",
    "            requirement = 'Your output first contains your reasoning process and then pacakge your answer in the square, e.g. [Yes].\\n'\n",
    "            final_datas.append({\n",
    "                'input': question,\n",
    "                'hint': hint,\n",
    "                'requirement': requirement\n",
    "            })\n"
   ]
  },
  {
   "cell_type": "code",
   "execution_count": 9,
   "metadata": {},
   "outputs": [
    {
     "name": "stdout",
     "output_type": "stream",
     "text": [
      "Determine whether two nodes are connected in an undirected graph. \n",
      "In an undirected graph, (i,j) means that node i and node j are connected with an undirected edge. \n",
      "Q: The nodes are numbered from 0 to 8, and the edges are: (0, 2), (0, 9), (0, 11), (0, 13), (0, 15), (0, 16), (0, 17), (0, 19), (0, 20), (1, 2), (1, 3), (1, 5), (1, 6), (1, 10), (1, 11), (1, 12), (1, 15), (1, 16), (1, 21), (1, 22), (2, 12), (2, 14), (2, 16), (2, 18), (2, 19), (2, 22), (3, 7), (3, 8), (3, 10), (3, 12), (3, 14), (3, 18), (3, 21), (4, 7), (4, 8), (4, 13), (4, 16), (5, 11), (5, 12), (5, 13), (5, 19), (6, 9), (6, 11), (6, 17), (6, 21), (7, 9), (7, 12), (7, 13), (7, 14), (7, 16), (7, 17), (7, 19), (8, 9), (8, 11), (8, 12), (8, 13), (8, 14), (8, 16), (8, 19), (8, 22), (9, 20), (9, 21), (10, 15), (10, 16), (10, 18), (10, 20), (10, 21), (11, 14), (11, 15), (11, 16), (11, 18), (11, 19), (11, 20), (12, 13), (12, 16), (12, 17), (12, 18), (12, 21), (12, 22), (13, 14), (13, 16), (13, 21), (14, 17), (14, 20), (15, 19), (15, 21), (15, 22), (16, 19), (16, 20), (17, 18), (17, 20), (18, 19), (18, 21), (19, 20), (19, 22). Is there a path between node 3 and node 15?\n",
      "\n",
      "49371\n"
     ]
    }
   ],
   "source": [
    "print(final_datas[0]['input'])\n",
    "print(len(final_datas))"
   ]
  },
  {
   "cell_type": "code",
   "execution_count": 10,
   "metadata": {},
   "outputs": [],
   "source": [
    "with open('/mnt/sdc/qifan/Graphwiz_Modify/Prompt_api_data_0104/Connectivity.json','w') as f:\n",
    "    json.dump(final_datas, f, indent=4)"
   ]
  }
 ],
 "metadata": {
  "kernelspec": {
   "display_name": "base",
   "language": "python",
   "name": "python3"
  },
  "language_info": {
   "codemirror_mode": {
    "name": "ipython",
    "version": 3
   },
   "file_extension": ".py",
   "mimetype": "text/x-python",
   "name": "python",
   "nbconvert_exporter": "python",
   "pygments_lexer": "ipython3",
   "version": "3.11.7"
  }
 },
 "nbformat": 4,
 "nbformat_minor": 2
}
